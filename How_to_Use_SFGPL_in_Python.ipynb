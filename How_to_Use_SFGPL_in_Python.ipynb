{
  "cells": [
    {
      "cell_type": "markdown",
      "metadata": {
        "id": "FX3lGkniFAdj"
      },
      "source": [
        "# How to use SFGPL in Python"
      ]
    },
    {
      "cell_type": "markdown",
      "metadata": {
        "id": "Nr8wiKunFRp0"
      },
      "source": [
        "## How to install the SFGPL library"
      ]
    },
    {
      "cell_type": "markdown",
      "metadata": {
        "id": "TcWaCFTKBLfy"
      },
      "source": [
        "The SFGPL can be installed by using the following command."
      ]
    },
    {
      "cell_type": "code",
      "execution_count": 1,
      "metadata": {
        "colab": {
          "base_uri": "https://localhost:8080/"
        },
        "id": "pB3sAdab1gxt",
        "outputId": "a90f44b9-eedb-4774-d110-3f8020c27364"
      },
      "outputs": [
        {
          "name": "stdout",
          "output_type": "stream",
          "text": [
            "Collecting git+https://github.com/Eruhitsuji/SFGPL\n",
            "  Cloning https://github.com/Eruhitsuji/SFGPL to /tmp/pip-req-build-tvn41tn2\n",
            "  Running command git clone --filter=blob:none --quiet https://github.com/Eruhitsuji/SFGPL /tmp/pip-req-build-tvn41tn2\n",
            "  Resolved https://github.com/Eruhitsuji/SFGPL to commit e1310a068f7546a61054737a8e100ffaa5d9d1af\n",
            "  Installing build dependencies ... \u001b[?25l\u001b[?25hdone\n",
            "  Getting requirements to build wheel ... \u001b[?25l\u001b[?25hdone\n",
            "  Preparing metadata (pyproject.toml) ... \u001b[?25l\u001b[?25hdone\n"
          ]
        }
      ],
      "source": [
        "!pip install git+https://github.com/Eruhitsuji/SFGPL"
      ]
    },
    {
      "cell_type": "markdown",
      "metadata": {
        "id": "woa1v7ylBLf0"
      },
      "source": [
        "The following command is also used to view SFGPL information."
      ]
    },
    {
      "cell_type": "code",
      "execution_count": 2,
      "metadata": {
        "colab": {
          "base_uri": "https://localhost:8080/"
        },
        "id": "UGXVMFNF1lWw",
        "outputId": "6a7de6ac-fab1-4080-e587-287202dcd043"
      },
      "outputs": [
        {
          "name": "stdout",
          "output_type": "stream",
          "text": [
            "Name: SFGPL\n",
            "Version: 3.0.0\n",
            "Summary: \"This library is a Python implementation of the artificial language \\\"SFGPL\\\".\"\n",
            "Home-page: \"https://github.com/Eruhitsuji/SFGPL\"\n",
            "Author: \"Eruhitsuji\"\n",
            "Author-email: \n",
            "License: \"MIT\"\n",
            "Location: /usr/local/lib/python3.10/dist-packages\n",
            "Requires: \n",
            "Required-by: \n"
          ]
        }
      ],
      "source": [
        "!pip show SFGPL"
      ]
    },
    {
      "cell_type": "markdown",
      "metadata": {
        "id": "iM53hzX7FZqu"
      },
      "source": [
        "## How to use SFGPL Library"
      ]
    },
    {
      "cell_type": "markdown",
      "metadata": {
        "id": "HBeZ5gN9BLf1"
      },
      "source": [
        "### Basic Usage of the SFGPL"
      ]
    },
    {
      "cell_type": "markdown",
      "metadata": {
        "id": "dmU2CEHRBLf1"
      },
      "source": [
        "First, import SFGPL."
      ]
    },
    {
      "cell_type": "code",
      "execution_count": 3,
      "metadata": {
        "colab": {
          "base_uri": "https://localhost:8080/",
          "height": 35
        },
        "id": "rsijYBP05OfT",
        "outputId": "7dcb4e47-c3ca-41a7-a7da-2dfa286cee18"
      },
      "outputs": [
        {
          "data": {
            "application/vnd.google.colaboratory.intrinsic+json": {
              "type": "string"
            },
            "text/plain": [
              "'3.0.0'"
            ]
          },
          "execution_count": 3,
          "metadata": {},
          "output_type": "execute_result"
        }
      ],
      "source": [
        "from SFGPL import *\n",
        "SFGPL.__version__.__version__"
      ]
    },
    {
      "cell_type": "markdown",
      "metadata": {
        "id": "SI_954taBLf2"
      },
      "source": [
        "Next, the sentence is represented by a function.\n",
        "These functions are created by referring to [dict.csv](dict.csv).\n",
        "If an argument or function is incorrect, an error will be displayed.\n",
        "The created functions can be printed on the command line using the standard Python function print()."
      ]
    },
    {
      "cell_type": "markdown",
      "metadata": {
        "id": "esG5aJc7BLf2"
      },
      "source": [
        "The following sentence means \"I installed SFGPL Library\"."
      ]
    },
    {
      "cell_type": "code",
      "execution_count": 4,
      "metadata": {
        "colab": {
          "base_uri": "https://localhost:8080/"
        },
        "id": "6fIBv4xxEQoy",
        "outputId": "1e670cf6-b635-4853-ccb7-d97fe72c9b4a"
      },
      "outputs": [
        {
          "name": "stdout",
          "output_type": "stream",
          "text": [
            "di te ga sa 'install' ma fa 'Library' so fa 'SFGPL'\n"
          ]
        }
      ],
      "source": [
        "s1=Phrase.past(Noun.doT(Pronoun.I(),Verb(\"install\"),Noun.eq(Noun(\"Library\"),Verb.none(),Noun(\"SFGPL\"))))\n",
        "print(s1)"
      ]
    },
    {
      "cell_type": "markdown",
      "metadata": {
        "id": "BqLptjbcBLf3"
      },
      "source": [
        "### How to use SFGPLCorpus"
      ]
    },
    {
      "cell_type": "markdown",
      "metadata": {
        "id": "0l-OiszxBLf3"
      },
      "source": [
        "The SFGPL includes a simple corpus to record the correspondence between the SFGPL and the original language."
      ]
    },
    {
      "cell_type": "markdown",
      "metadata": {
        "id": "MGnYFbmNBLf3"
      },
      "source": [
        "First, to use this corpus, you need to run a program like the following."
      ]
    },
    {
      "cell_type": "code",
      "execution_count": 5,
      "metadata": {
        "id": "Eqtm-0nNBLf3"
      },
      "outputs": [],
      "source": [
        "sc1=SFGPLCorpus()"
      ]
    },
    {
      "cell_type": "markdown",
      "metadata": {
        "id": "eYYEh94_BLf4"
      },
      "source": [
        "This creates an object for the SFGPL corpus.\n",
        "To add sentences to this corpus, run the following program."
      ]
    },
    {
      "cell_type": "code",
      "execution_count": 6,
      "metadata": {
        "id": "R-AoTuN8BLf4"
      },
      "outputs": [],
      "source": [
        "sc1.setCorpus(s1,\"I installed SFGPL Library.\")"
      ]
    },
    {
      "cell_type": "code",
      "execution_count": 7,
      "metadata": {
        "id": "c5kyp18aBLf4"
      },
      "outputs": [],
      "source": [
        "sc1.setCorpus(Noun.have(Pronoun.I(),Verb.none(),Noun(\"pen\")),\"I have a pen.\")"
      ]
    },
    {
      "cell_type": "markdown",
      "metadata": {
        "id": "N98IcR9JBLf4"
      },
      "source": [
        "In this way, multiple sentences can be added."
      ]
    },
    {
      "cell_type": "markdown",
      "metadata": {
        "id": "fTJHO7OWBLf4"
      },
      "source": [
        "To simply display the SFGPL in the corpus, run the following program."
      ]
    },
    {
      "cell_type": "code",
      "execution_count": 8,
      "metadata": {
        "colab": {
          "base_uri": "https://localhost:8080/"
        },
        "id": "0GopdAYaBLf4",
        "outputId": "e52df403-2a97-4c23-b559-8fd9011c0061"
      },
      "outputs": [
        {
          "name": "stdout",
          "output_type": "stream",
          "text": [
            "di te ga sa 'install' ma fa 'Library' so fa 'SFGPL';mi ga so fa 'pen';\n"
          ]
        }
      ],
      "source": [
        "print(sc1)"
      ]
    },
    {
      "cell_type": "markdown",
      "metadata": {
        "id": "Z1ctIqkqBLf4"
      },
      "source": [
        "By executing the following program, information in the corpus can be retrieved in a dictionary.\n",
        "In this case, \"version\" is the version of the library at the time of execution, \"sfgpl_obj_list\" is the SFGPL object, \"sfgpl_str_list\" is the SFGPL sentence, and \"translation_str_list\" is the sentence in the source language."
      ]
    },
    {
      "cell_type": "code",
      "execution_count": 9,
      "metadata": {
        "colab": {
          "base_uri": "https://localhost:8080/"
        },
        "id": "DKah-jcfBLf5",
        "outputId": "b8ed6440-408e-4552-cbff-8e3d692840f6"
      },
      "outputs": [
        {
          "name": "stdout",
          "output_type": "stream",
          "text": [
            "{'version': '3.0.0', 'sfgpl_obj_list': [<SFGPL.SFGPL.Phrase object at 0x7886a8f72740>, <SFGPL.SFGPL.Phrase object at 0x7886a8f72b30>], 'sfgpl_str_list': [\"di te ga sa 'install' ma fa 'Library' so fa 'SFGPL'\", \"mi ga so fa 'pen'\"], 'translation_str_list': ['I installed SFGPL Library.', 'I have a pen.']}\n"
          ]
        }
      ],
      "source": [
        "sc1_get=sc1.getAll()\n",
        "print(sc1_get)"
      ]
    },
    {
      "cell_type": "markdown",
      "metadata": {
        "id": "jEsJ4JCTBLf5"
      },
      "source": [
        "By the way, let's prepare another corpus."
      ]
    },
    {
      "cell_type": "code",
      "execution_count": 10,
      "metadata": {
        "id": "htzEBlRZBLf5"
      },
      "outputs": [],
      "source": [
        "sc2=SFGPLCorpus()\n",
        "sc2.setCorpus(Noun.eq(Pronoun.I(),Verb.none(),Noun(\"student\")),\"I am a student.\")"
      ]
    },
    {
      "cell_type": "markdown",
      "metadata": {
        "id": "OmpTLOA_BLf5"
      },
      "source": [
        "SFGPLCorpus can combine sc1 and sc2.\n",
        "To merge, execute the following program."
      ]
    },
    {
      "cell_type": "code",
      "execution_count": 11,
      "metadata": {
        "colab": {
          "base_uri": "https://localhost:8080/"
        },
        "id": "YBiWJddLBLf5",
        "outputId": "0d0f079e-72a3-455f-b1e3-577538c40d63"
      },
      "outputs": [
        {
          "name": "stdout",
          "output_type": "stream",
          "text": [
            "di te ga sa 'install' ma fa 'Library' so fa 'SFGPL';mi ga so fa 'pen';ma ga so fa 'student';di te ga sa 'install' ma fa 'Library' so fa 'SFGPL';mi ga so fa 'pen';ma ga so fa 'student';\n"
          ]
        }
      ],
      "source": [
        "sc=sc1+sc2\n",
        "print(sc)"
      ]
    },
    {
      "cell_type": "markdown",
      "metadata": {
        "id": "bacszcbfBLf5"
      },
      "source": [
        "Finally, to save the corpus as a JSON file, run the following program."
      ]
    },
    {
      "cell_type": "code",
      "execution_count": 12,
      "metadata": {
        "id": "oJGhljH-BLf5"
      },
      "outputs": [],
      "source": [
        "sc.saveJson(\"out/how_to_use_SFGPL_in_Python.json\")"
      ]
    },
    {
      "cell_type": "markdown",
      "metadata": {
        "id": "SkDu9Qf2BLf6"
      },
      "source": [
        "The output corpus can then be read by running the following program."
      ]
    },
    {
      "cell_type": "code",
      "execution_count": 13,
      "metadata": {
        "colab": {
          "base_uri": "https://localhost:8080/"
        },
        "id": "Ae_295yoBLf6",
        "outputId": "b42dec44-f492-4006-a79c-34e3426637a3"
      },
      "outputs": [
        {
          "name": "stdout",
          "output_type": "stream",
          "text": [
            "di te ga sa 'install' ma fa 'Library' so fa 'SFGPL';mi ga so fa 'pen';ma ga so fa 'student';di te ga sa 'install' ma fa 'Library' so fa 'SFGPL';mi ga so fa 'pen';ma ga so fa 'student';\n"
          ]
        }
      ],
      "source": [
        "sc_read=SFGPLCorpus.readJson(\"out/how_to_use_SFGPL_in_Python.json\")\n",
        "print(sc_read)"
      ]
    },
    {
      "cell_type": "markdown",
      "metadata": {
        "id": "euwmGbE5Fjc3"
      },
      "source": [
        "## How to uninstall the SFGPL library"
      ]
    },
    {
      "cell_type": "code",
      "execution_count": 14,
      "metadata": {
        "colab": {
          "base_uri": "https://localhost:8080/"
        },
        "id": "dkaacobeE22q",
        "outputId": "d02a1295-a3a9-4237-cfa2-a25100595bde"
      },
      "outputs": [
        {
          "name": "stdout",
          "output_type": "stream",
          "text": [
            "Found existing installation: SFGPL 3.0.0\n",
            "Uninstalling SFGPL-3.0.0:\n",
            "  Successfully uninstalled SFGPL-3.0.0\n"
          ]
        }
      ],
      "source": [
        "!pip uninstall SFGPL -y"
      ]
    }
  ],
  "metadata": {
    "colab": {
      "provenance": []
    },
    "kernelspec": {
      "display_name": "Python 3",
      "name": "python3"
    },
    "language_info": {
      "codemirror_mode": {
        "name": "ipython",
        "version": 3
      },
      "file_extension": ".py",
      "mimetype": "text/x-python",
      "name": "python",
      "nbconvert_exporter": "python",
      "pygments_lexer": "ipython3",
      "version": "3.6.5"
    }
  },
  "nbformat": 4,
  "nbformat_minor": 0
}
