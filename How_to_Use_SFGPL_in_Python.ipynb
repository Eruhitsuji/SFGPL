{
  "cells": [
    {
      "cell_type": "markdown",
      "metadata": {
        "id": "FX3lGkniFAdj"
      },
      "source": [
        "# How to use SFGPL in Python"
      ]
    },
    {
      "cell_type": "markdown",
      "metadata": {
        "id": "Nr8wiKunFRp0"
      },
      "source": [
        "## How to install the SFGPL library"
      ]
    },
    {
      "cell_type": "markdown",
      "metadata": {},
      "source": [
        "The SFGPL can be installed by using the following command."
      ]
    },
    {
      "cell_type": "code",
      "execution_count": 1,
      "metadata": {
        "colab": {
          "base_uri": "https://localhost:8080/"
        },
        "id": "pB3sAdab1gxt",
        "outputId": "d1beaed1-5b5d-4d2c-d9f0-88444145262d"
      },
      "outputs": [
        {
          "name": "stdout",
          "output_type": "stream",
          "text": [
            "Collecting git+https://github.com/Eruhitsuji/SFGPL\n",
            "  Cloning https://github.com/Eruhitsuji/SFGPL to c:\\users\\l1007\\appdata\\local\\temp\\pip-req-build-kntdk4m2\n",
            "  Resolved https://github.com/Eruhitsuji/SFGPL to commit b4797a9c6f8a61db5f2ac7f63f9fe374ceaea8ee\n",
            "  Installing build dependencies: started\n",
            "  Installing build dependencies: finished with status 'done'\n",
            "  Getting requirements to build wheel: started\n",
            "  Getting requirements to build wheel: finished with status 'done'\n",
            "  Preparing metadata (pyproject.toml): started\n",
            "  Preparing metadata (pyproject.toml): finished with status 'done'\n",
            "Building wheels for collected packages: SFGPL\n",
            "  Building wheel for SFGPL (pyproject.toml): started\n",
            "  Building wheel for SFGPL (pyproject.toml): finished with status 'done'\n",
            "  Created wheel for SFGPL: filename=SFGPL-1.0.3-py3-none-any.whl size=16249 sha256=d4b4c5828c9411badc5254cb6227f12fcbf02c0f6e3f2c189b55123b3219ed58\n",
            "  Stored in directory: C:\\Users\\L1007\\AppData\\Local\\Temp\\pip-ephem-wheel-cache-jhk1nd7g\\wheels\\8d\\47\\75\\b7ed15058d470216079ae2cab72f43f33b1ca4a633eaf53ed9\n",
            "Successfully built SFGPL\n",
            "Installing collected packages: SFGPL\n",
            "Successfully installed SFGPL-1.0.3\n"
          ]
        },
        {
          "name": "stderr",
          "output_type": "stream",
          "text": [
            "  Running command git clone --filter=blob:none --quiet https://github.com/Eruhitsuji/SFGPL 'C:\\Users\\L1007\\AppData\\Local\\Temp\\pip-req-build-kntdk4m2'\n"
          ]
        }
      ],
      "source": [
        "!pip install git+https://github.com/Eruhitsuji/SFGPL"
      ]
    },
    {
      "cell_type": "markdown",
      "metadata": {},
      "source": [
        "The following command is also used to view SFGPL information."
      ]
    },
    {
      "cell_type": "code",
      "execution_count": 2,
      "metadata": {
        "colab": {
          "base_uri": "https://localhost:8080/"
        },
        "id": "UGXVMFNF1lWw",
        "outputId": "208d17d2-af7b-4d8f-dd9e-947fc65d6a6e"
      },
      "outputs": [
        {
          "name": "stdout",
          "output_type": "stream",
          "text": [
            "Name: SFGPL\n",
            "Version: 1.0.3\n",
            "Summary: \"This library is a Python implementation of the artificial language \\\"SFGPL\\\".\"\n",
            "Home-page: \"https://github.com/Eruhitsuji/SFGPL\"\n",
            "Author: \"Eruhitsuji\"\n",
            "Author-email: \n",
            "License: \"MIT\"\n",
            "Location: C:\\Users\\L1007\\Anaconda3\\envs\\test_SFGPL_3_11\\Lib\\site-packages\n",
            "Requires: \n",
            "Required-by: \n"
          ]
        }
      ],
      "source": [
        "!pip show SFGPL"
      ]
    },
    {
      "cell_type": "markdown",
      "metadata": {
        "id": "iM53hzX7FZqu"
      },
      "source": [
        "## How to use SFGPL Library"
      ]
    },
    {
      "cell_type": "markdown",
      "metadata": {},
      "source": [
        "### Basic Usage of the SFGPL"
      ]
    },
    {
      "cell_type": "markdown",
      "metadata": {},
      "source": [
        "First, import SFGPL."
      ]
    },
    {
      "cell_type": "code",
      "execution_count": 3,
      "metadata": {
        "id": "rsijYBP05OfT"
      },
      "outputs": [],
      "source": [
        "from SFGPL import *"
      ]
    },
    {
      "cell_type": "markdown",
      "metadata": {},
      "source": [
        "Next, the sentence is represented by a function.\n",
        "These functions are created by referring to [dict.csv](dict.csv).\n",
        "If an argument or function is incorrect, an error will be displayed.\n",
        "The created functions can be printed on the command line using the standard Python function print()."
      ]
    },
    {
      "cell_type": "markdown",
      "metadata": {},
      "source": [
        "The following sentence means \"I installed SFGPL Library\"."
      ]
    },
    {
      "cell_type": "code",
      "execution_count": 4,
      "metadata": {
        "colab": {
          "base_uri": "https://localhost:8080/"
        },
        "id": "6fIBv4xxEQoy",
        "outputId": "2cd34436-95b3-493f-b923-5f6f1211329d"
      },
      "outputs": [
        {
          "name": "stdout",
          "output_type": "stream",
          "text": [
            "di te ga sa 'install' ma fa 'Library' so fa 'SFGPL'\n"
          ]
        }
      ],
      "source": [
        "s1=Phrase.past(Noun.doT(Pronoun.I(),Verb(\"install\"),Noun.eq(Noun(\"Library\"),Verb.none(),Noun(\"SFGPL\"))))\n",
        "print(s1)"
      ]
    },
    {
      "cell_type": "markdown",
      "metadata": {},
      "source": [
        "### How to use SFGPLCorpus"
      ]
    },
    {
      "cell_type": "markdown",
      "metadata": {},
      "source": [
        "The SFGPL includes a simple corpus to record the correspondence between the SFGPL and the original language."
      ]
    },
    {
      "cell_type": "markdown",
      "metadata": {},
      "source": [
        "First, to use this corpus, you need to run a program like the following."
      ]
    },
    {
      "cell_type": "code",
      "execution_count": 5,
      "metadata": {},
      "outputs": [],
      "source": [
        "sc1=SFGPLCorpus()"
      ]
    },
    {
      "cell_type": "markdown",
      "metadata": {},
      "source": [
        "This creates an object for the SFGPL corpus.\n",
        "To add sentences to this corpus, run the following program."
      ]
    },
    {
      "cell_type": "code",
      "execution_count": 6,
      "metadata": {},
      "outputs": [],
      "source": [
        "sc1.setCorpus(s1,\"I installed SFGPL Library.\")"
      ]
    },
    {
      "cell_type": "code",
      "execution_count": 7,
      "metadata": {},
      "outputs": [],
      "source": [
        "sc1.setCorpus(Noun.have(Pronoun.I(),Verb.none(),Noun(\"pen\")),\"I have a pen.\")"
      ]
    },
    {
      "cell_type": "markdown",
      "metadata": {},
      "source": [
        "In this way, multiple sentences can be added."
      ]
    },
    {
      "cell_type": "markdown",
      "metadata": {},
      "source": [
        "To simply display the SFGPL in the corpus, run the following program."
      ]
    },
    {
      "cell_type": "code",
      "execution_count": 8,
      "metadata": {},
      "outputs": [
        {
          "name": "stdout",
          "output_type": "stream",
          "text": [
            "di te ga sa 'install' ma fa 'Library' so fa 'SFGPL';mi ga so fa 'pen';\n"
          ]
        }
      ],
      "source": [
        "print(sc1)"
      ]
    },
    {
      "cell_type": "markdown",
      "metadata": {},
      "source": [
        "By executing the following program, information in the corpus can be retrieved in a dictionary.\n",
        "In this case, \"version\" is the version of the library at the time of execution, \"sfgpl_obj_list\" is the SFGPL object, \"sfgpl_str_list\" is the SFGPL sentence, and \"translation_str_list\" is the sentence in the source language."
      ]
    },
    {
      "cell_type": "code",
      "execution_count": 9,
      "metadata": {},
      "outputs": [
        {
          "name": "stdout",
          "output_type": "stream",
          "text": [
            "{'version': '1.0.3', 'sfgpl_obj_list': [<SFGPL.SFGPL.Phrase object at 0x000001F2D6A571D0>, <SFGPL.SFGPL.Phrase object at 0x000001F2D6A64250>], 'sfgpl_str_list': [\"di te ga sa 'install' ma fa 'Library' so fa 'SFGPL'\", \"mi ga so fa 'pen'\"], 'translation_str_list': ['I installed SFGPL Library.', 'I have a pen.']}\n"
          ]
        }
      ],
      "source": [
        "sc1_get=sc1.getAll()\n",
        "print(sc1_get)"
      ]
    },
    {
      "cell_type": "markdown",
      "metadata": {},
      "source": [
        "By the way, let's prepare another corpus."
      ]
    },
    {
      "cell_type": "code",
      "execution_count": 10,
      "metadata": {},
      "outputs": [],
      "source": [
        "sc2=SFGPLCorpus()\n",
        "sc2.setCorpus(Noun.eq(Pronoun.I(),Verb.none(),Noun(\"student\")),\"I am a student.\")"
      ]
    },
    {
      "cell_type": "markdown",
      "metadata": {},
      "source": [
        "SFGPLCorpus can combine sc1 and sc2.\n",
        "To merge, execute the following program."
      ]
    },
    {
      "cell_type": "code",
      "execution_count": 11,
      "metadata": {},
      "outputs": [
        {
          "name": "stdout",
          "output_type": "stream",
          "text": [
            "di te ga sa 'install' ma fa 'Library' so fa 'SFGPL';mi ga so fa 'pen';ma ga so fa 'student';di te ga sa 'install' ma fa 'Library' so fa 'SFGPL';mi ga so fa 'pen';ma ga so fa 'student';\n"
          ]
        }
      ],
      "source": [
        "sc=sc1+sc2\n",
        "print(sc)"
      ]
    },
    {
      "cell_type": "markdown",
      "metadata": {},
      "source": [
        "Finally, to save the corpus as a JSON file, run the following program."
      ]
    },
    {
      "cell_type": "code",
      "execution_count": 12,
      "metadata": {},
      "outputs": [],
      "source": [
        "sc.saveJson(\"out/how_to_use_SFGPL_in_Python.json\")"
      ]
    },
    {
      "cell_type": "markdown",
      "metadata": {},
      "source": [
        "The output corpus can then be read by running the following program."
      ]
    },
    {
      "cell_type": "code",
      "execution_count": 13,
      "metadata": {},
      "outputs": [
        {
          "name": "stdout",
          "output_type": "stream",
          "text": [
            "di te ga sa 'install' ma fa 'Library' so fa 'SFGPL';mi ga so fa 'pen';ma ga so fa 'student';di te ga sa 'install' ma fa 'Library' so fa 'SFGPL';mi ga so fa 'pen';ma ga so fa 'student';\n"
          ]
        }
      ],
      "source": [
        "sc_read=SFGPLCorpus.readJson(\"out/how_to_use_SFGPL_in_Python.json\")\n",
        "print(sc_read)"
      ]
    },
    {
      "cell_type": "markdown",
      "metadata": {
        "id": "euwmGbE5Fjc3"
      },
      "source": [
        "## How to uninstall the SFGPL library"
      ]
    },
    {
      "cell_type": "code",
      "execution_count": 14,
      "metadata": {
        "colab": {
          "base_uri": "https://localhost:8080/"
        },
        "id": "dkaacobeE22q",
        "outputId": "790cf56b-7f77-48dd-ab67-e772379945c2"
      },
      "outputs": [
        {
          "name": "stdout",
          "output_type": "stream",
          "text": [
            "Found existing installation: SFGPL 1.0.3\n",
            "Uninstalling SFGPL-1.0.3:\n",
            "  Successfully uninstalled SFGPL-1.0.3\n"
          ]
        }
      ],
      "source": [
        "!pip uninstall SFGPL -y"
      ]
    }
  ],
  "metadata": {
    "colab": {
      "provenance": []
    },
    "kernelspec": {
      "display_name": "Python 3",
      "name": "python3"
    },
    "language_info": {
      "codemirror_mode": {
        "name": "ipython",
        "version": 3
      },
      "file_extension": ".py",
      "mimetype": "text/x-python",
      "name": "python",
      "nbconvert_exporter": "python",
      "pygments_lexer": "ipython3",
      "version": "3.11.5"
    }
  },
  "nbformat": 4,
  "nbformat_minor": 0
}
