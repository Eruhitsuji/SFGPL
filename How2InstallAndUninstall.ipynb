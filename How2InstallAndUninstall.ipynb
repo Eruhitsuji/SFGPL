{
  "cells": [
    {
      "cell_type": "markdown",
      "metadata": {
        "id": "FX3lGkniFAdj"
      },
      "source": [
        "# How to install and uninstall the SFGPL library"
      ]
    },
    {
      "cell_type": "markdown",
      "metadata": {
        "id": "Nr8wiKunFRp0"
      },
      "source": [
        "## How to install the SFGPL library"
      ]
    },
    {
      "cell_type": "code",
      "execution_count": null,
      "metadata": {
        "colab": {
          "base_uri": "https://localhost:8080/"
        },
        "id": "pB3sAdab1gxt",
        "outputId": "d1beaed1-5b5d-4d2c-d9f0-88444145262d"
      },
      "outputs": [],
      "source": [
        "!pip install git+https://github.com/Eruhitsuji/SFGPL"
      ]
    },
    {
      "cell_type": "code",
      "execution_count": null,
      "metadata": {
        "colab": {
          "base_uri": "https://localhost:8080/"
        },
        "id": "UGXVMFNF1lWw",
        "outputId": "208d17d2-af7b-4d8f-dd9e-947fc65d6a6e"
      },
      "outputs": [],
      "source": [
        "!pip show SFGPL"
      ]
    },
    {
      "cell_type": "markdown",
      "metadata": {
        "id": "iM53hzX7FZqu"
      },
      "source": [
        "## test the SFGPL library"
      ]
    },
    {
      "cell_type": "code",
      "execution_count": null,
      "metadata": {
        "id": "rsijYBP05OfT"
      },
      "outputs": [],
      "source": [
        "from SFGPL import *"
      ]
    },
    {
      "cell_type": "code",
      "execution_count": null,
      "metadata": {
        "colab": {
          "base_uri": "https://localhost:8080/"
        },
        "id": "6fIBv4xxEQoy",
        "outputId": "2cd34436-95b3-493f-b923-5f6f1211329d"
      },
      "outputs": [],
      "source": [
        "s=Phrase.past(Noun.doT(Pronoun.I(),Verb(\"install\"),Noun.eq(Noun(\"Library\"),Verb.none(),Noun(\"SFGPL\"))))\n",
        "print(s)"
      ]
    },
    {
      "cell_type": "markdown",
      "metadata": {
        "id": "euwmGbE5Fjc3"
      },
      "source": [
        "## How to uninstall the SFGPL library"
      ]
    },
    {
      "cell_type": "code",
      "execution_count": null,
      "metadata": {
        "colab": {
          "base_uri": "https://localhost:8080/"
        },
        "id": "dkaacobeE22q",
        "outputId": "790cf56b-7f77-48dd-ab67-e772379945c2"
      },
      "outputs": [],
      "source": [
        "!pip uninstall SFGPL -y"
      ]
    }
  ],
  "metadata": {
    "colab": {
      "provenance": []
    },
    "kernelspec": {
      "display_name": "Python 3",
      "name": "python3"
    },
    "language_info": {
      "name": "python",
      "version": "3.10.2"
    }
  },
  "nbformat": 4,
  "nbformat_minor": 0
}
